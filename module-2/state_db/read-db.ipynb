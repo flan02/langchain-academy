{
 "cells": [
  {
   "cell_type": "code",
   "execution_count": 4,
   "id": "d635273f-3a4f-4180-a041-0d5f70e2289c",
   "metadata": {},
   "outputs": [
    {
     "name": "stdout",
     "output_type": "stream",
     "text": [
      "[('checkpoints',), ('writes',)]\n",
      "('1', '', '1ef64b22-3155-65d8-bfff-cb35a53ab872', 'f663dc3b-612f-5aca-92fa-a28f7838f3db', 0, 'messages', 'json', b'[{\"lc\": 1, \"type\": \"constructor\", \"id\": [\"langchain\", \"schema\", \"messages\", \"HumanMessage\"], \"kwargs\": {\"content\": \"hi! I\\'m Lance\", \"type\": \"human\", \"id\": \"20dcd0d2-29e3-4bd0-a83e-74485a28e3e0\"}}]')\n",
      "('1', '', '1ef64b22-3155-65d8-bfff-cb35a53ab872', 'f663dc3b-612f-5aca-92fa-a28f7838f3db', 1, 'start:conversation', 'json', b'\"__start__\"')\n",
      "('1', '', '1ef64b22-315d-6eae-8000-a235a23be95b', '9f248069-15a9-553c-8970-cbe0b516ab19', 0, 'conversation', 'json', b'\"conversation\"')\n",
      "('1', '', '1ef64b22-315d-6eae-8000-a235a23be95b', '9f248069-15a9-553c-8970-cbe0b516ab19', 1, 'messages', 'json', b'{\"lc\": 1, \"type\": \"constructor\", \"id\": [\"langchain\", \"schema\", \"messages\", \"AIMessage\"], \"kwargs\": {\"content\": \"Hello Lance! It\\'s nice to meet you. I\\'m an AI assistant. How can I help you today? Is there anything specific you\\'d like to chat about or any questions you have?\", \"response_metadata\": {\"id\": \"msg_01B8rZ3xtSFMAjbCkjmkekZP\", \"model\": \"claude-3-5-sonnet-20240620\", \"stop_reason\": \"end_turn\", \"stop_sequence\": null, \"usage\": {\"input_tokens\": 12, \"output_tokens\": 42}}, \"type\": \"ai\", \"id\": \"run-f2807f1f-9e42-4f38-a137-056980bf3fb7-0\", \"usage_metadata\": {\"input_tokens\": 12, \"output_tokens\": 42, \"total_tokens\": 54}, \"tool_calls\": [], \"invalid_tool_calls\": []}}')\n",
      "('1', '', '1ef64b22-3f51-6ede-8002-09bf7a5b4b77', 'c98d104f-2621-5152-8db1-27b97f13fff4', 0, 'messages', 'json', b'[{\"lc\": 1, \"type\": \"constructor\", \"id\": [\"langchain\", \"schema\", \"messages\", \"HumanMessage\"], \"kwargs\": {\"content\": \"what\\'s my name?\", \"type\": \"human\", \"id\": \"47060bc4-3d2e-4a93-b936-11fb6945a3d3\"}}]')\n",
      "('1', '', '1ef64b22-3f51-6ede-8002-09bf7a5b4b77', 'c98d104f-2621-5152-8db1-27b97f13fff4', 1, 'start:conversation', 'json', b'\"__start__\"')\n",
      "('1', '', '1ef64b22-3f55-671e-8003-e2790bf40803', 'e0106af8-49a3-5b26-a1c0-b53dcdabb7c0', 0, 'conversation', 'json', b'\"conversation\"')\n",
      "('1', '', '1ef64b22-3f55-671e-8003-e2790bf40803', 'e0106af8-49a3-5b26-a1c0-b53dcdabb7c0', 1, 'messages', 'json', b'{\"lc\": 1, \"type\": \"constructor\", \"id\": [\"langchain\", \"schema\", \"messages\", \"AIMessage\"], \"kwargs\": {\"content\": \"Your name is Lance, as you introduced yourself at the beginning of our conversation.\", \"response_metadata\": {\"id\": \"msg_01UoPuipM62SDxFiMvkprFyt\", \"model\": \"claude-3-5-sonnet-20240620\", \"stop_reason\": \"end_turn\", \"stop_sequence\": null, \"usage\": {\"input_tokens\": 62, \"output_tokens\": 19}}, \"type\": \"ai\", \"id\": \"run-277861df-84b6-40f7-b63d-f8321db48621-0\", \"usage_metadata\": {\"input_tokens\": 62, \"output_tokens\": 19, \"total_tokens\": 81}, \"tool_calls\": [], \"invalid_tool_calls\": []}}')\n",
      "('1', '', '1ef64b22-4972-6c88-8005-907852fe92dd', 'e7005d73-ac4f-5882-ad86-a915d5c431ae', 0, 'messages', 'json', b'[{\"lc\": 1, \"type\": \"constructor\", \"id\": [\"langchain\", \"schema\", \"messages\", \"HumanMessage\"], \"kwargs\": {\"content\": \"i like the 49ers!\", \"type\": \"human\", \"id\": \"b58aa3d9-3390-4a79-b014-9e4fe14d5421\"}}]')\n",
      "('1', '', '1ef64b22-4972-6c88-8005-907852fe92dd', 'e7005d73-ac4f-5882-ad86-a915d5c431ae', 1, 'start:conversation', 'json', b'\"__start__\"')\n",
      "('1', '', '1ef64b22-4976-65ea-8006-f62b88bfc879', '384561f8-6246-54e6-ba48-b3a15f5b8063', 0, 'conversation', 'json', b'\"conversation\"')\n",
      "('1', '', '1ef64b22-4976-65ea-8006-f62b88bfc879', '384561f8-6246-54e6-ba48-b3a15f5b8063', 1, 'messages', 'json', b'{\"lc\": 1, \"type\": \"constructor\", \"id\": [\"langchain\", \"schema\", \"messages\", \"AIMessage\"], \"kwargs\": {\"content\": \"That\\'s great, Lance! The San Francisco 49ers are a popular NFL team with a rich history. They\\'ve won five Super Bowl championships and have had many legendary players like Joe Montana, Jerry Rice, and Steve Young. \\\\n\\\\nIs there anything specific about the 49ers you\\'d like to discuss? Maybe their current roster, recent performance, or some of their historical achievements? Or do you have a favorite player or memorable game you\\'d like to talk about?\", \"response_metadata\": {\"id\": \"msg_011pmkR6H9JefrzcNzz1Kr8K\", \"model\": \"claude-3-5-sonnet-20240620\", \"stop_reason\": \"end_turn\", \"stop_sequence\": null, \"usage\": {\"input_tokens\": 91, \"output_tokens\": 98}}, \"type\": \"ai\", \"id\": \"run-bcc55c7d-4c00-4f67-a828-5ac1ad56cecd-0\", \"usage_metadata\": {\"input_tokens\": 91, \"output_tokens\": 98, \"total_tokens\": 189}, \"tool_calls\": [], \"invalid_tool_calls\": []}}')\n",
      "('1', '', '1ef64b22-e2c1-64a2-8008-fa0b43d39f02', '30274ea4-c463-5efe-aae7-b8d1b75cb9c7', 0, 'messages', 'json', b'[{\"lc\": 1, \"type\": \"constructor\", \"id\": [\"langchain\", \"schema\", \"messages\", \"HumanMessage\"], \"kwargs\": {\"content\": \"hi! I\\'m Lance\", \"type\": \"human\", \"id\": \"086e80ce-8bd0-4dee-b13c-f47160d6755f\"}}]')\n",
      "('1', '', '1ef64b22-e2c1-64a2-8008-fa0b43d39f02', '30274ea4-c463-5efe-aae7-b8d1b75cb9c7', 1, 'start:conversation', 'json', b'\"__start__\"')\n",
      "('1', '', '1ef64b22-e2c6-6f10-8009-be75168e63df', 'f9c7ba2f-63fe-5774-b2e9-e606f114625d', 0, 'conversation', 'json', b'\"conversation\"')\n",
      "('1', '', '1ef64b22-e2c6-6f10-8009-be75168e63df', 'f9c7ba2f-63fe-5774-b2e9-e606f114625d', 1, 'messages', 'json', b'{\"lc\": 1, \"type\": \"constructor\", \"id\": [\"langchain\", \"schema\", \"messages\", \"AIMessage\"], \"kwargs\": {\"content\": \"Hello Lance! You\\'ve already introduced yourself, but it\\'s nice to greet you again. Is there something specific you\\'d like to talk about? Perhaps you\\'d like to continue our conversation about the 49ers, or is there another topic you\\'re interested in discussing?\", \"response_metadata\": {\"id\": \"msg_01AkDF6AH7LMp2YDDD9jQkEC\", \"model\": \"claude-3-5-sonnet-20240620\", \"stop_reason\": \"end_turn\", \"stop_sequence\": null, \"usage\": {\"input_tokens\": 197, \"output_tokens\": 58}}, \"type\": \"ai\", \"id\": \"run-7f8af5e1-5248-4ccd-ab46-87580422f0d6-0\", \"usage_metadata\": {\"input_tokens\": 197, \"output_tokens\": 58, \"total_tokens\": 255}, \"tool_calls\": [], \"invalid_tool_calls\": []}}')\n",
      "('1', '', '1ef64b22-e2c6-6f10-8009-be75168e63df', 'f9c7ba2f-63fe-5774-b2e9-e606f114625d', 2, 'branch:conversation:should_continue:summarize_conversation', 'json', b'\"conversation\"')\n",
      "('1', '', '1ef64b22-f6a3-6998-800a-7e7f2c17a8f8', '167de50f-3ab9-50e3-89e2-97ced8d95a3b', 0, 'summarize_conversation', 'json', b'\"summarize_conversation\"')\n",
      "('1', '', '1ef64b22-f6a3-6998-800a-7e7f2c17a8f8', '167de50f-3ab9-50e3-89e2-97ced8d95a3b', 1, 'messages', 'json', b'[{\"lc\": 1, \"type\": \"constructor\", \"id\": [\"langchain\", \"schema\", \"messages\", \"RemoveMessage\"], \"kwargs\": {\"content\": \"\", \"type\": \"remove\", \"id\": \"20dcd0d2-29e3-4bd0-a83e-74485a28e3e0\"}}, {\"lc\": 1, \"type\": \"constructor\", \"id\": [\"langchain\", \"schema\", \"messages\", \"RemoveMessage\"], \"kwargs\": {\"content\": \"\", \"type\": \"remove\", \"id\": \"run-f2807f1f-9e42-4f38-a137-056980bf3fb7-0\"}}, {\"lc\": 1, \"type\": \"constructor\", \"id\": [\"langchain\", \"schema\", \"messages\", \"RemoveMessage\"], \"kwargs\": {\"content\": \"\", \"type\": \"remove\", \"id\": \"47060bc4-3d2e-4a93-b936-11fb6945a3d3\"}}, {\"lc\": 1, \"type\": \"constructor\", \"id\": [\"langchain\", \"schema\", \"messages\", \"RemoveMessage\"], \"kwargs\": {\"content\": \"\", \"type\": \"remove\", \"id\": \"run-277861df-84b6-40f7-b63d-f8321db48621-0\"}}, {\"lc\": 1, \"type\": \"constructor\", \"id\": [\"langchain\", \"schema\", \"messages\", \"RemoveMessage\"], \"kwargs\": {\"content\": \"\", \"type\": \"remove\", \"id\": \"b58aa3d9-3390-4a79-b014-9e4fe14d5421\"}}, {\"lc\": 1, \"type\": \"constructor\", \"id\": [\"langchain\", \"schema\", \"messages\", \"RemoveMessage\"], \"kwargs\": {\"content\": \"\", \"type\": \"remove\", \"id\": \"run-bcc55c7d-4c00-4f67-a828-5ac1ad56cecd-0\"}}]')\n",
      "('1', '', '1ef64b22-f6a3-6998-800a-7e7f2c17a8f8', '167de50f-3ab9-50e3-89e2-97ced8d95a3b', 2, 'summary', 'json', b'\"Here\\'s a summary of the conversation:\\\\n\\\\nLance introduced himself twice during the conversation. He expressed his fondness for the San Francisco 49ers football team. The AI assistant acknowledged Lance\\'s name each time and showed willingness to discuss the 49ers, offering to talk about various aspects of the team such as their history, current roster, or memorable games. The conversation was brief and somewhat repetitive, with Lance reintroducing himself at the end without directly responding to the AI\\'s questions or prompts about the 49ers.\"')\n",
      "('1', '', '1ef64b23-0ed8-61d0-800c-1f9c8dac8a81', '09526582-aa54-5518-9995-dff1dc8f466d', 0, 'messages', 'json', b'[{\"lc\": 1, \"type\": \"constructor\", \"id\": [\"langchain\", \"schema\", \"messages\", \"HumanMessage\"], \"kwargs\": {\"content\": \"what\\'s my name?\", \"type\": \"human\", \"id\": \"e33f42ee-cdb0-45ec-b100-54dcd4c82e71\"}}]')\n",
      "('1', '', '1ef64b23-0ed8-61d0-800c-1f9c8dac8a81', '09526582-aa54-5518-9995-dff1dc8f466d', 1, 'start:conversation', 'json', b'\"__start__\"')\n",
      "('1', '', '1ef64b23-0eda-6570-800d-6ccdb9a388b7', '8429aeb0-ffab-5204-a2f6-09bd9bf589e5', 0, 'conversation', 'json', b'\"conversation\"')\n",
      "('1', '', '1ef64b23-0eda-6570-800d-6ccdb9a388b7', '8429aeb0-ffab-5204-a2f6-09bd9bf589e5', 1, 'messages', 'json', b'{\"lc\": 1, \"type\": \"constructor\", \"id\": [\"langchain\", \"schema\", \"messages\", \"AIMessage\"], \"kwargs\": {\"content\": \"Your name is Lance. You\\'ve introduced yourself twice during our conversation.\", \"response_metadata\": {\"id\": \"msg_01LVJSCjRjmRd3QA2UMP6SXg\", \"model\": \"claude-3-5-sonnet-20240620\", \"stop_reason\": \"end_turn\", \"stop_sequence\": null, \"usage\": {\"input_tokens\": 193, \"output_tokens\": 17}}, \"type\": \"ai\", \"id\": \"run-4152603e-5c5f-4a26-be8c-2b2bab373e75-0\", \"usage_metadata\": {\"input_tokens\": 193, \"output_tokens\": 17, \"total_tokens\": 210}, \"tool_calls\": [], \"invalid_tool_calls\": []}}')\n",
      "('1', '', '1ef64b23-1a44-619a-800f-66ae836caa2e', '60a64878-6795-5681-9fe3-1e8b38ebb963', 0, 'messages', 'json', b'[{\"lc\": 1, \"type\": \"constructor\", \"id\": [\"langchain\", \"schema\", \"messages\", \"HumanMessage\"], \"kwargs\": {\"content\": \"i like the 49ers!\", \"type\": \"human\"}}]')\n",
      "('1', '', '1ef64b23-1a44-619a-800f-66ae836caa2e', '60a64878-6795-5681-9fe3-1e8b38ebb963', 1, 'start:conversation', 'json', b'\"__start__\"')\n",
      "('1', '', '1ef64b23-1a48-6402-8010-79e09364e17f', '2af47ad7-d18d-5b60-aab8-5f35a05c9204', 0, 'conversation', 'json', b'\"conversation\"')\n",
      "('1', '', '1ef64b23-1a48-6402-8010-79e09364e17f', '2af47ad7-d18d-5b60-aab8-5f35a05c9204', 1, 'messages', 'json', b'{\"lc\": 1, \"type\": \"constructor\", \"id\": [\"langchain\", \"schema\", \"messages\", \"AIMessage\"], \"kwargs\": {\"content\": \"Yes, you\\'ve mentioned that you like the San Francisco 49ers! They\\'re a popular NFL team with a rich history. Since you\\'re a fan, is there anything specific about the 49ers you\\'d like to discuss? We could talk about:\\\\n\\\\n1. Their current roster and key players\\\\n2. The team\\'s history and past achievements\\\\n3. Memorable games or seasons\\\\n4. Their prospects for the upcoming season\\\\n5. The team\\'s rivalries\\\\n6. Their home stadium, Levi\\'s Stadium\\\\n\\\\nWhat aspect of the 49ers interests you most?\", \"response_metadata\": {\"id\": \"msg_018FVfpp9brQykX53VK88tv5\", \"model\": \"claude-3-5-sonnet-20240620\", \"stop_reason\": \"end_turn\", \"stop_sequence\": null, \"usage\": {\"input_tokens\": 220, \"output_tokens\": 123}}, \"type\": \"ai\", \"id\": \"run-68b784a6-c518-4904-a208-6214b7223414-0\", \"usage_metadata\": {\"input_tokens\": 220, \"output_tokens\": 123, \"total_tokens\": 343}, \"tool_calls\": [], \"invalid_tool_calls\": []}}')\n"
     ]
    }
   ],
   "source": [
    "%run db.py"
   ]
  },
  {
   "cell_type": "code",
   "execution_count": null,
   "id": "750c1d7e-8a56-4827-b5bf-b3006e57d4ab",
   "metadata": {},
   "outputs": [],
   "source": []
  }
 ],
 "metadata": {
  "kernelspec": {
   "display_name": "Python 3 (ipykernel)",
   "language": "python",
   "name": "python3"
  },
  "language_info": {
   "codemirror_mode": {
    "name": "ipython",
    "version": 3
   },
   "file_extension": ".py",
   "mimetype": "text/x-python",
   "name": "python",
   "nbconvert_exporter": "python",
   "pygments_lexer": "ipython3",
   "version": "3.12.6"
  }
 },
 "nbformat": 4,
 "nbformat_minor": 5
}
